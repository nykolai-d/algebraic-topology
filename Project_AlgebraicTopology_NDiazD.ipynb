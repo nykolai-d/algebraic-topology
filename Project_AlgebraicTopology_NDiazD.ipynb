{
 "cells": [
  {
   "cell_type": "markdown",
   "metadata": {},
   "source": [
    "# Algebraic Topology"
   ]
  },
  {
   "cell_type": "markdown",
   "metadata": {},
   "source": [
    "##### Trying to understand how Deep Neural Networks work from a mathematical point of view\n",
    " <br>\n",
    "Nicolás Díaz D."
   ]
  },
  {
   "cell_type": "markdown",
   "metadata": {},
   "source": [
    "The following work aims to cover some of the the most important concepts and definitions of algebraic topology in order to explore how deep neural networks operate in their hidden layers and why they are so amazingly efficient, the key idea being that the topology of the data changes, progressively becoming more and more simple.\n",
    "<br>\n",
    "\n",
    "This work does not pretend to be a comprehensive account of any of the concepts here described. It is more of a personal project digging into topics I feel passionate about. With this in mind, any comments or suggestions are totally welcome."
   ]
  },
  {
   "cell_type": "markdown",
   "metadata": {},
   "source": [
    "### 1. Some key concepts of algebraic topology"
   ]
  },
  {
   "cell_type": "markdown",
   "metadata": {},
   "source": [
    "### Simplex and simplicial complex\n",
    "A simplex is a generalization of a triangle to arbitrary dimensions. It represents the simplest possible polytope in space.\n",
    "\n",
    "A $0$-simplex is a point, a $1$-simplex is a line segment, a $2$-simplex is a triangle, and a $3$-simplex is a tetrahedron. \n",
    "\n",
    "A $k$-simplex is built with $k + 1$ vertices and denoted $\\sigma = [v_0,v_1,\\dots,v_k]$.  The faces of a $k$-simplex are simplices of dimensions $0$ to $k − 1$ formed by convex hulls of proper subsets of its vertex set $\\{v_0, \\dots , v_k\\}$. \n",
    "\n",
    "Formally, consider the $k+1$ affinely independent points $u_0,u_1,\\dots,u_k\\in\\mathbb{R}^k$ (this means $u_1-u_0,\\dots,u_k-u_0$ are linearly independent). The simplex defined by these points is the set\n",
    "\n",
    "$$C=\\bigg\\{\\theta_0 u_0+\\theta_1u_1+\\dots+\\theta_k u_k\\bigg|\\sum_{i=0}^{k}\\theta_i=1\\text{; }\\theta_i\\ge0\\text{; }i=0,1,\\dots,k\\bigg\\}$$\n",
    "\n",
    "In topology, when we \"glue\" simpleces together, we build a simplicial complex.\n"
   ]
  },
  {
   "cell_type": "markdown",
   "metadata": {},
   "source": [
    "#### Simplicial complexes"
   ]
  },
  {
   "cell_type": "markdown",
   "metadata": {},
   "source": [
    "A $k$-dimensional simplex, or $k$-simplex, $\\sigma$ in $\\mathbb{R}^d$, is the convex hull of $k + 1$ affinely independent points $v_0, v_1, \\dots , v_k \\in \\mathbb{R}^d$. "
   ]
  },
  {
   "cell_type": "markdown",
   "metadata": {},
   "source": [
    "##### Example\n",
    "<img src=\"simplicial_complex.png\" style=\"width:400px;height:200px\"/>\n",
    "\n",
    "<br>\n",
    "\n",
    "A simplicial complex consisting of the simplices $\\{a,b,c,d,ab,bc,cd,ad,ac,abc,acd\\}$"
   ]
  },
  {
   "cell_type": "markdown",
   "metadata": {},
   "source": [
    "#### m-dimensional geometrical simplicial complex\n",
    "\n",
    "An $m$-dimensional geometrical simplicial complex $K$ in $\\mathbb{R}^d$ is a finite collection of simplices in $\\mathbb{R}^d$ of dimensions at most $m$ that:\n",
    "\n",
    "* are glued together along faces\n",
    "* include all faces of all its simplices, e.g., if the simplex $\\sigma_1 = [v_0, v_1, v_2]$ is in $K$, then the simplices $[v_0, v_1], [v_1, v_2], [v_0, v_2], [v_0], [v_1], [v_2]$ must all also belong to $K$. \n",
    "\n",
    "Every geometrical simplicial complex masks an abstract simplicial complex — a list of simplices $K = \\{\\sigma_1, \\sigma_2,\\dots, \\sigma_n\\}$ with the property that if \n",
    "\n",
    "$$\\tau\\subseteq\\sigma\\in K \\Longrightarrow \\tau\\in K$$ \n",
    "\n",
    "This is exactly how we describe a graph, i.e., a $1$-dimensional simplicial complex, as an abstract collection of edges, i.e., $1$-simplices, and vertices. \n",
    "\n",
    "The abstract description of a simplicial complex allows us to understand its simplices as elements in a vector space, which is useful to defining simplicial homology."
   ]
  },
  {
   "cell_type": "markdown",
   "metadata": {},
   "source": [
    "##### Example\n",
    "<img src=\"geometrical_sc.png\" style=\"width:500px;height:250px\"/>\n",
    "\n",
    "<br>\n",
    "\n",
    "This is a geometrical simplicial complex in $\\mathbb{R}^3$ that is a geometrical realization of an abstract simplicial complex \n",
    "\n",
    "$$K = \\{[a, b, c, d], [e, f, g], \\dots, [e, b], \\dots , [a], [b],\\dots, [\\ell]\\}$$ \n",
    "\n",
    "comprising $32$ simplices: a single $3$-simplex $[a, b, c, d]$, five $2$-simplices such as $[a, c, d]$ and $[e, f, g]$, fourteen $1$-simplices such as $[e, b]$ and $[g, h]$, twelve $0$-simplices $[a], [b],\\dots, [\\ell]$. \n",
    "\n",
    "Note that in the geometrical simplicial complex, the simplices intersect along faces."
   ]
  },
  {
   "cell_type": "markdown",
   "metadata": {},
   "source": [
    "### Homology\n",
    "\n",
    "Homology is a tool to analyze and classify manifolds according to their cycles. These cycles can be drawn on a given $n$ dimensional manifold, but cannot continuously deformed into each other, and can sometimes be seen as cuts which can be glued back together. Cycles are classified by dimension.(Richeson, 2008)\n",
    "\n",
    "##### Cycles on surfaces\n",
    "\n",
    "Consider the following diagram representing cycles on different surfaces:\n",
    "\n",
    "<img src=\"cycles2.png\" style=\"width:750px;height:200px\"/>\n",
    "\n",
    "On the sphere $S^{2}$, the cycle $b$ can be reduced to a point, i.e. one of its poles. All cycles on the sphere can be continuously transformed into each other, meaning they share the same homology class. \n",
    "\n",
    "The torus $T^{2}$ has cycles which cannot be continuously deformed into each other. Note that in the diagram, cycles $a$ and $b$ cannot be reduced to a point, while cycle $c$ can, which immplies it is homologous to zero. \n",
    "\n",
    "\n",
    "#### Some history\n",
    "\n",
    "The concept of homology is linked to the origins of the Euler characteristic. Then came Riemann's definition of genus and $n$-fold connectedness numerical invariants (1857) and Betti's proof (1871) of the independence of \"homology numbers\" from the choice of basis (Weibel, 1995)\n",
    "\n",
    "The first theory of homology was published by Henri Poincaré in \"Analysis situs\" (1895), a well known seminal paper. The article presented the concept of homology classes and introduced what later would be known as Betti numbers, which are a refinement of the Euler characteristic. Poincaré saw homology as a relation between manifolds mapped into a manifold. These manifolds form a homology when they draw the boundary of a higher-dimensional manifold inside the original manifold."
   ]
  },
  {
   "cell_type": "markdown",
   "metadata": {},
   "source": [
    "### Homology group\n",
    "\n",
    "Informally, a homology group refers to an Abelian group capable of tracking the connections present in a topological space, hence also \"counting the holes\" that is possesses.\n",
    "\n",
    "$\\textit{Note: }$There is a connection between the first homotopy group and the first homology group $H$: the latter can be seen as the abelianization of the former. This is why it is valid to say that \"homology is a commutative alternative to homotopy\" (Wildberger, 2012).\n",
    "\n",
    "##### Definition:\n",
    "Given the cycles $Z_k$ and boundaries $B_k$ of a simplicial complex in $k$-dimensions, the $k$-th homology group is defined as $H_k=Z_k/B_k$\n",
    "\n",
    "\n",
    "##### Chain complex and boundary operator\n",
    "\n",
    "Consider $\\mathbb{F}_2 = \\{0, 1\\}$, the field of two elements with arithmetic performed modulo $2$.\n",
    "\n",
    "Let $C_0,C_1,\\dots,C_d$ be vector spaces of $\\mathbb{F}_2$ and $\\partial_k:C_k\\longrightarrow C_{k-1}$ be linear maps called $\\textit{boundary operators}$ that satisfy the condition that a \"boundary of a boundary is trivial\", i.e.,\n",
    "\n",
    "<br>\n",
    "\n",
    "$$\\partial_k\\circ \\partial_{k+1}=0$$\n",
    "\n",
    "<br>\n",
    "\n",
    "for all $k=0,1,\\dots,d.$ A $\\textit{chain complex}$ is defined as follows:\n",
    "\n",
    "<br>\n",
    "\n",
    "$$0\\xrightarrow{\\partial_{d+1}}C_d\\xrightarrow{\\partial_{d}}C_{d-1}\\xrightarrow{\\partial_{d-1}}\\dots\\xrightarrow{\\partial_{k+1}}C_k\\xrightarrow{\\partial_{k}}C_{k-1}\\xrightarrow{\\partial_{k-1}}\\dots\\xrightarrow{\\partial_{2}}C_1\\xrightarrow{\\partial_{1}}C_0\\xrightarrow{\\partial_{0}}0$$\n",
    "\n",
    "<br>\n",
    "\n",
    "where $C_{d+1}=C_{-1}=0$, also called the trivial subspace. \n",
    "\n",
    "The elements in the image of $\\partial_{k}$ are called $\\textit{boundaries}$ and the elements in the kernel of $\\partial_{k-1}$ are called $\\textit{cycles}$. Both ker($\\partial_k$) and im($\\partial_{k+1}$) are subspaces of $C_k$, so\n",
    "\n",
    "<br>\n",
    "\n",
    "$$B_k:=\\text{im}(\\partial_{k+1})\\subseteq\\text{ker}(\\partial_{k})=:Z_k$$\n",
    "\n",
    "<br>\n",
    "\n",
    "Here the quotient vector space can be formed:\n",
    "\n",
    "<br>\n",
    "\n",
    "$$H_k:=Z_k/B_k=\\text{ker}(\\partial_k)/\\text{im}(\\partial_{k+1}),\\quad k=0,1,\\dots,d$$\n",
    "\n",
    "<br>\n",
    "\n",
    "This is what we call a $k$th $\\textit{homology group}$, \"group\" refering to an abelian group under addition. The elements of $H_k$ are called $\\textit{homology classes}$, which are equivalence classes given by\n",
    "\n",
    "<br>\n",
    "\n",
    "$$[z]=z+B_k=\\{z+b\\in Z_k: b\\in B_k\\}$$\n",
    "\n",
    "<br>\n",
    "\n",
    "In particular, $[z+b]=[z]$ for any $b\\in B_k$. The dimension of $H_k$ as a vector space is given by\n",
    "\n",
    "<br>\n",
    "\n",
    "$$\\beta_k:=\\text{dim}(H_k),\\quad k=0,1,\\dots,d$$\n",
    "\n",
    "<br>\n",
    "\n",
    "This has a special topological significance when $H_K$ is the homology group of a topological space like a simplicial complex $K$ and is called the $k$th $\\textit{Betti number}$ of $K$."
   ]
  },
  {
   "cell_type": "markdown",
   "metadata": {},
   "source": [
    "### Betti numbers\n",
    "\n",
    "Betti numbers $\\beta_k(M)$ are the simplest topological invariants that capture the shape of a space $M\\subseteq \\mathbb{R}^{d}$. Having intuitive interpretations, they are a powerful tool to quantify topology. The $0$-th Betti number, $\\beta_0(M)$, counts the number of connected components in $M$ ; the $k$-th Betti number, $\\beta_k(M), k \\ge 1$, is informally the number of $k$-dimensional holes in $M$. \n",
    "\n",
    "In particular, $\\beta_k(M)=0$ when $k \\ge d$ as there are no holes of dimension $d$ or higher in $d$-dimensional space. So for $M\\subseteq \\mathbb{R}^{d}$, we write $\\beta(M):=(\\beta_0(M),\\beta_1(M),\\dots,\\beta_{d-1}(M))$ —these numbers capture the shape or topology of M. \n",
    "\n",
    "The following is an example of manifolds in $\\mathbb{R}^{3}$ and their Betti numbers:\n",
    "\n",
    "<img src=\"betti..png\" style=\"width:800px;height:180px\"/>\n",
    "\n",
    "\n",
    "<br>\n",
    "If $M$ has no holes and can be deformed to a point continously (without \"tearing\" the manifold), then $\\beta_0(M)=1$ and $\\beta_k(M)=0, \\forall k\\ge 1$. This is known as a contractible space. \n",
    "\n",
    "The simplest noncontractible connected space is a circle $S^{1} \\subseteq \\mathbb{R}^{2}$, which has one connected component and a single one-dimensional hole, so $\\beta_0(S^{1})=1=\\beta_1(S1)=0,\\forall k\\ge 2$.\n",
    "\n",
    "##### Topological complexity\n",
    "\n",
    "Intuitively, the more holes a space has, the more complex its topology. In other words, the larger the numbers in $\\beta(M)$, the more complicated the topology of M. As such, we define its topological complexity by\n",
    "\n",
    "$$\\omega(M):=\\beta_0(M)+\\beta_1(M)+\\dots+\\beta_{d-1}(M)$$\n",
    "\n",
    "While not as well-known as the Euler characteristic, the topological complexity is also a classical notion in topology, appearing notably in Morse theory."
   ]
  },
  {
   "cell_type": "markdown",
   "metadata": {},
   "source": [
    "##### Example\n",
    "\n",
    "Consider the surface of a (hollow) torus and its Betti numbers:\n",
    "\n",
    "<img src=\"betti_torus.png\" style=\"width:300px;height:180px\"/>\n",
    "\n",
    "$$\\beta(T^{2})=(1,2,1)$$\n",
    "These numbers can be understood as follows:\n",
    "* $1$ single component\n",
    "* $2$ one-dimensional or \"circular\" holes\n",
    "* $1$ two-dimensional or \"void\" holes"
   ]
  },
  {
   "cell_type": "markdown",
   "metadata": {},
   "source": [
    "#### Simplicial homology\n",
    "\n",
    "Consider $S$, a simplicial complex. A simplicial $k$-chain is a finite sum defined by\n",
    "\n",
    "<br>\n",
    "\n",
    "$$\\sum_{i=1}^{m}c_i\\sigma_i$$\n",
    "\n",
    "<br>\n",
    "\n",
    "where $c_i$ is an integer and $\\sigma_i$ is an oriented $k$-simplex. The group of $k$-chains on $S$ is denoted $C_k$.\n",
    "\n",
    "The boundary operators $\\partial_k:C_k(K)\\longrightarrow C_{k-1}(K)$  are defined on a $k$-simplex $\\omega=[v_0,v_1,\\dots,v_k]$ by\n",
    "\n",
    "<br>\n",
    "\n",
    "$$\\partial_k\\sigma:=\\sum_{i=0}^{k}[v_o,\\dots,\\hat{v}_i,\\dots,v_k]$$\n",
    "\n",
    "<br>\n",
    "\n",
    "where $\\hat{v}_1$ tells us that $v_i$ is omitted and extended linearly to all of $C_k(K)$, i,e.,\n",
    "\n",
    "<br>\n",
    "\n",
    "$$\\partial_k\\left(\\sum_{i=1}^{m}n_i\\sigma_i\\right):=\\sum_{i=1}^{m}n_i\\partial_k\\sigma_i$$\n",
    "\n",
    "##### Exampĺe\n",
    "Based on the previous formula we have\n",
    "\n",
    "$$\\partial_1[a,b]=a+b$$\n",
    "$$\\partial_2[a,b,c]=[a,b]+[b,c]+[c,a]$$\n",
    "$$\\partial_2([a,b,c]+[d,e,f])=\\partial_2[a,b,c]+\\partial[d,e,f]$$\n",
    "\n",
    "\n",
    "\n"
   ]
  },
  {
   "cell_type": "markdown",
   "metadata": {},
   "source": [
    "#### Simplicial maps\n",
    "\n",
    "Consider $K_1$ and $K_2$, two abstract simplicial complexes. \n",
    "\n",
    "A simplicial map is a map defined on the vertex sets $f : K_1^{(0)}\\longrightarrow K_2^{(0)}$ so that for each simplex $\\sigma = [v_0,\\dots, v_k]\\in K_1$, we have that $[f(v_0),\\dots, f(v_k)]$ is a simplex in $K_2$. Such a map induces a map between chain complexes that we will also denote by $f$ defined by\n",
    "\n",
    "<br>\n",
    "\n",
    "$$f:C_k(K_1)\\longrightarrow C_k(K_2),\\quad\\sum_{i=1}^{m}n_i\\sigma_i\\longrightarrow\\sum_{i=1}^{m}n_i f(\\sigma_i)$$\n",
    "\n",
    "<br>\n",
    "\n",
    "which creates a map between homologies\n",
    "\n",
    "<br>\n",
    "\n",
    "$$H_k(f):H_k(K_1)\\longrightarrow H_k(K_2)$$\n",
    "\n",
    "<br>\n",
    "\n",
    "The composition of two simplicial maps $f:C_k(K_1)\\longrightarrow C_k(K_2)$ and $g:C_k(K_2)\\longrightarrow C_k(K_3)$ is also a simplicial map $g\\circ f:C_k(K_1)\\longrightarrow C_k(K_3)$ and therefore creates a map between homologies\n",
    "\n",
    "<br>\n",
    "\n",
    "$$H_k(g\\circ f):H_k(K_1)\\longrightarrow H_k(K_3),\\forall k=0,1,\\dots,d+1$$\n"
   ]
  },
  {
   "cell_type": "markdown",
   "metadata": {},
   "source": [
    "### 2. Real-life application"
   ]
  },
  {
   "cell_type": "markdown",
   "metadata": {},
   "source": [
    "#### Topology of Deep Neural Networks\n",
    "\n",
    "A real-life application of the concepts explained in section 1 happens in the analysis of the topology of deep neural networks. A neural network consists of several connected units called nodes. These are the smallest part of the neural network and act as the neurons in the human brain. When a neuron receives a signal, it triggers a process. The signal is passed from one neuron to another based on input received. A complex network is formed that learns from feedback.\n",
    "\n",
    "<img src=\"dnn1.png\" style=\"width:550px;height:400px\"/>\n",
    "\n",
    "Consider a data set $M=M_a\\cup M_b\\subseteq \\mathbb{R}^{d}$ represnting to classes $a$ and $b$ in a binary classification problem. Naitzat $\\textit{et al.}$ (2020) study how neural networks operate by changing topology, transforming a topologically complicated data set into a topologically simple one as it passes through the layers. No matter how complicated the topology of $M$, when passed through a well-trained neural network $f : \\mathbb{R}^{d}\\longrightarrow \\mathbb{R}^{p}$, there is a vast reduction in the Betti numbers of both components $M_a$ and $M_b$; in fact, they nearly always reduce to their lowest possible values:\n",
    "\n",
    "The following figure, taken from (Naitzat $\\textit{et al.}, 2020$), illustrates how the topology of manifold $M=M_a\\cup M_b\\subseteq \\mathbb{R}^{d}$ changes, in a caricature of actual real-life experimentation with data sets.\n",
    "\n",
    "<img src=\"trans.png\" style=\"width:550px;height:160px\"/>\n"
   ]
  },
  {
   "cell_type": "markdown",
   "metadata": {},
   "source": [
    "#### Persistent homology\n",
    "\n",
    "One common challenge in the data analytics field is extraction of information from datasets that are high-dimensional, because of their incomplete and noisy nature. Topological data analysis (TDA) offers a powerful toolset to analyze such data, providing dimensionality reduction and robustness to noise. \n",
    "\n",
    "The initial motivation of TDA is to study the $\\textit{shape of data}$, mostly through algebraic topology and other pure mathematics strategies. Persistent homology is its most important tool, which is an adaptation of the concept of homology to point cloud data. Nowadays, persistent homology is used across many fields with many types of data. Its unique features makes it a link between geometry and topology. \n",
    "\n",
    "In the case above, the manifold $M=M_a\\cup M_b$ would have to be replaced by a point cloud data set in reality, i.e., a finite set of points sampled with noise from $M$. This is where persistent homology becomes incredibly useful, as it gives meaning to the topology of point cloud data and estimates the Betti numbers of its underlying manifold, while avoiding the problem of extreme sensitivity to perturbations. "
   ]
  },
  {
   "cell_type": "markdown",
   "metadata": {},
   "source": [
    "##### Vietoris-Rips Complex\n",
    "\n",
    "A common strategy to obtain a simplicial complex from a point cloud data set in topological data analysis is through the Vietoris-Rips Complex. A point cloud data set is nothing more than a finite set of $n$ points $X\\subseteq\\mathbb{R}^{d}$, so it is possible to build an abstract simplicial complex $K$ with vertex set $K^{(0)} = X$.\n",
    "\n",
    "Consider $\\delta$ a metric on $\\mathbb{R}^{d}$. The Vietoris–Rips complex at scale $\\varepsilon\\ge0$ on $X$ is denoted by $VR_{\\varepsilon}(X)$ and defined to be the simplicial complex whose vertex set is $X$ and whose $k$-simplices include all $[x0,\\dots, xk]$ satisfying $\\delta(x_i, x_j)\\le2\\varepsilon, i,j = 0, 1,\\dots, k$. Formally,\n",
    "\n",
    "<br>\n",
    "\n",
    "\n",
    "$$VR_{\\varepsilon}(X):=\\{[x_0,x_1,\\dots,x_k]:\\delta(x_i,x_j)\\le2\\varepsilon,x_0,x_1,\\dots,x_k\\in X,k=0,1,\\dots,n\\}$$\n",
    "\n",
    "<br>\n",
    "\n",
    "When X is sampled from a manifold $ M\\subseteq\\mathbb{R}^{d}$, then for a dense enough sample, and at sufficiently small scale, the topology of $VR_{\\varepsilon}(X)$ recovers the true topology of $M$.\n",
    "\n",
    "This is one example of persistent homology, through the incorporation of the scale $\\varepsilon$, which varies from $0$ to $\\infty$, into homology calculations. At a scale of zero, $VR_{0}(X)=\\{[x]:x\\in X\\}$ is a collection of $0$-dimensional simplices with $\\beta_0 = |X|$ and all other Betti numbers zero. As $\\varepsilon$ takes higher values, more and more distant points come together to form higher and higher dimensional simplices in $VR_{\\varepsilon}(X)$ and its topology becomes much more complex. But as $\\varepsilon\\rightarrow\\infty$, eventually all points in $X$ become vertices of a single $|X|$-dimensional simplex, turning into a contractible topological space. So at the extreme ends $\\varepsilon=0$ and $\\varepsilon\\rightarrow\\infty$, we have trivial (discrete and indiscrete) topologies and the answer that we are looking for lies somewhere in between.\n",
    "\n",
    "##### Example 1\n",
    "\n",
    "<img src=\"vr.png\" style=\"width:550px;height:200px\"/>\n",
    "\n",
    "<br>\n",
    "\n",
    "This is a Vietoris-Rips complex on ten points in $\\mathbb{R}^{2}$ at scales $\\varepsilon=0.15,0.4,0.6$\n",
    "\n",
    "##### Example 2\n",
    "\n",
    "<img src=\"cloud_data.png\" style=\"width:850px;height:250px\"/>"
   ]
  },
  {
   "cell_type": "markdown",
   "metadata": {},
   "source": [
    "### 3. References and further reading\n",
    "\n",
    "* Edelsbrunner, H., Letscher, D., & Zomorodian, A. (2000, November). Topological persistence and simplification. In Proceedings 41st annual symposium on foundations of computer science (pp. 454-463). IEEE.\n",
    "* Gabella, M. (2020). Topology of Learning in Feedforward Neural Networks. IEEE Transactions on Neural Networks and Learning Systems, 32(8), 3588-3592.\n",
    "* Gardner, M. The Sixth Book of Mathematical Games from Scientific American. Chicago, IL: University of Chicago Press, pp. 9-11 and 15-16, 1984.\n",
    "* Gustin, W. (1947). On the interior of the convex hull of a Euclidean set. Bulletin of the American Mathematical Society, 53(4), 299-301.\n",
    "* Munkres, J. (2000) Topology. Second Edition.\n",
    "* Naitzat, G., Zhitnikov, A., & Lim, L. H. (2020). Topology of Deep Neural Networks. J. Mach. Learn. Res., 21(184), 1-40.\n",
    "* Richeson, D. (2008), Euler's Gem: The Polyhedron Formula and the Birth of Topology, Princeton University\n",
    "* Spanier, E. H. (1989). Algebraic topology. Springer Science & Business Media.\n",
    "* Weibel, C. A. (1995). An introduction to homological algebra (No. 38). Cambridge university press.\n",
    "* Weisstein, Eric W. «Homology». En Weisstein, Eric W, ed. MathWorld. Wolfram Research.\n",
    "* Wildberger, N. J. (2012). \"An introduction to homology\". Archived from the original on 2021-12-11."
   ]
  }
 ],
 "metadata": {
  "kernelspec": {
   "display_name": "Python 3 (ipykernel)",
   "language": "python",
   "name": "python3"
  },
  "language_info": {
   "codemirror_mode": {
    "name": "ipython",
    "version": 3
   },
   "file_extension": ".py",
   "mimetype": "text/x-python",
   "name": "python",
   "nbconvert_exporter": "python",
   "pygments_lexer": "ipython3",
   "version": "3.9.12"
  }
 },
 "nbformat": 4,
 "nbformat_minor": 2
}
